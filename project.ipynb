{
  "nbformat": 4,
  "nbformat_minor": 0,
  "metadata": {
    "colab": {
      "name": "project.ipynb",
      "provenance": [],
      "collapsed_sections": [],
      "mount_file_id": "1UDu-NKfzwm1Ai_iesdrJQ_rArTFV4Wdt",
      "authorship_tag": "ABX9TyNzM/LL5p2hjGI/B+1AuOjP"
    },
    "kernelspec": {
      "name": "python3",
      "display_name": "Python 3"
    },
    "accelerator": "GPU"
  },
  "cells": [
    {
      "cell_type": "code",
      "metadata": {
        "id": "yj5Dp9wF0rBQ"
      },
      "source": [
        "%tensorflow_version 1.x"
      ],
      "execution_count": null,
      "outputs": []
    },
    {
      "cell_type": "code",
      "metadata": {
        "id": "4udnegRa1APi"
      },
      "source": [
        "%cd ~\n",
        "%cd /content\n",
        "%cd drive/My Drive/project"
      ],
      "execution_count": null,
      "outputs": []
    },
    {
      "cell_type": "code",
      "metadata": {
        "id": "M303v8i91EsN"
      },
      "source": [
        "!git clone https://github.com/tensorflow/models.git"
      ],
      "execution_count": null,
      "outputs": []
    },
    {
      "cell_type": "code",
      "metadata": {
        "id": "OxUB959k1VOe"
      },
      "source": [
        "%cd ~\n",
        "%cd /content\n",
        "%cd drive/My Drive/project/models/research"
      ],
      "execution_count": null,
      "outputs": []
    },
    {
      "cell_type": "code",
      "metadata": {
        "id": "pjh-OGbR1acy"
      },
      "source": [
        "!protoc object_detection/protos/*.proto --python_out=."
      ],
      "execution_count": null,
      "outputs": []
    },
    {
      "cell_type": "code",
      "metadata": {
        "id": "VFCCacp41nei"
      },
      "source": [
        "%cd ~\n",
        "%cd /content\n",
        "%cd drive/My Drive/project\n",
        "import os\n",
        "os.environ['PYTHONPATH'] += ':/content/drive/My Drive/project/models/research/:/content/drive/My Drive/project/models/research/slim/'\n",
        "os.environ['PYTHONPATH'] += ':/content/drive/My Drive/project/models/research/:/content/drive/My Drive/project/models/research/object_detection/'\n",
        "!python models/research/object_detection/builders/model_builder_test.py\n",
        " \n",
        "# Change the directory path\n",
        " \n",
        "%cd models/research/object_detection"
      ],
      "execution_count": null,
      "outputs": []
    },
    {
      "cell_type": "code",
      "metadata": {
        "id": "wyYWHX8W2SFs"
      },
      "source": [
        "import numpy as np\n",
        "import os\n",
        "import six.moves.urllib as urllib\n",
        "import sys\n",
        "import tarfile\n",
        "import tensorflow as tf\n",
        "import zipfile\n",
        " \n",
        "from distutils.version import StrictVersion\n",
        "from collections import defaultdict\n",
        "from io import StringIO\n",
        "from matplotlib import pyplot as plt\n",
        "from PIL import Image\n",
        " \n",
        "# This is needed since the notebook is stored in the object_detection folder.\n",
        "sys.path.append(\"..\")\n",
        "from object_detection.utils import ops as utils_ops\n",
        " \n",
        "if StrictVersion(tf.__version__) < StrictVersion('1.12.0'):\n",
        "  raise ImportError('Please upgrade your TensorFlow installation to v1.12.*.')\n",
        "   \n",
        "%matplotlib inline\n",
        " \n",
        "from utils import label_map_util\n",
        " \n",
        "from utils import visualization_utils as vis_util"
      ],
      "execution_count": null,
      "outputs": []
    },
    {
      "cell_type": "code",
      "metadata": {
        "id": "m6rrRVpd2any"
      },
      "source": [
        "%cd ~\n",
        "%cd /content\n",
        "%cd drive/My Drive/project/models/research/object_detection\n",
        "!python xml_to_csv.py"
      ],
      "execution_count": null,
      "outputs": []
    },
    {
      "cell_type": "code",
      "metadata": {
        "id": "tm0I3E-di2Iv"
      },
      "source": [
        "%cd ~\n",
        "%cd /content\n",
        "%cd drive/My Drive/project/models/research/object_detection\n",
        "!python generate_tfrecord.py --csv_input=images/train_labels.csv --image_dir=images/train --output_path=train.record"
      ],
      "execution_count": null,
      "outputs": []
    },
    {
      "cell_type": "code",
      "metadata": {
        "id": "w6L889TNkOe_"
      },
      "source": [
        "%cd ~\n",
        "%cd /content\n",
        "%cd drive/My Drive/project/models/research/object_detection\n",
        "!python generate_tfrecord.py --csv_input=images/test_labels.csv  --image_dir=images/test --output_path=test.record"
      ],
      "execution_count": null,
      "outputs": []
    },
    {
      "cell_type": "code",
      "metadata": {
        "id": "9hOScJ_sk0sh"
      },
      "source": [
        "%cd ~\n",
        "%cd /content\n",
        "%cd drive/My Drive/project/models/research/object_detection\n",
        "!python train.py --logtostderr --train_dir=training/ --pipeline_config_path=training/faster_rcnn_inception_v2_pets.config"
      ],
      "execution_count": null,
      "outputs": []
    },
    {
      "cell_type": "code",
      "metadata": {
        "id": "akqp60b-FK3Y"
      },
      "source": [
        "%cd ~\n",
        "%cd /content\n",
        "%cd drive/My Drive/project/models/research/object_detection\n",
        "!python export_inference_graph.py --input_type image_tensor --pipeline_config_path training/faster_rcnn_inception_v2_pets.config --trained_checkpoint_prefix training/model.ckpt-46857 --output_directory inference_graph"
      ],
      "execution_count": null,
      "outputs": []
    },
    {
      "cell_type": "code",
      "metadata": {
        "id": "srGv7QQ9UnpY"
      },
      "source": [
        "%cd ~\n",
        "%cd /content\n",
        "%cd drive/My Drive/project/models/research/object_detection\n",
        "import cv2\n",
        "vidcap = cv2.VideoCapture('test.mp4')\n",
        "success,image = vidcap.read()\n",
        "c = 0\n",
        "while success:\n",
        "  vidcap.set(cv2.CAP_PROP_POS_MSEC,(c*100)) #per second 10 as *100\n",
        "  cv2.imwrite('test_images/' + \"image%d.jpg\" % c, image)     # save frame as JPEG file      \n",
        "  success,image = vidcap.read()\n",
        "  print('Read a new frame: ', success)\n",
        "  c += 1"
      ],
      "execution_count": null,
      "outputs": []
    },
    {
      "cell_type": "code",
      "metadata": {
        "id": "cLTF3Tov2XMN"
      },
      "source": [
        "%cd ~\n",
        "%cd /content\n",
        "%cd drive/My Drive/project/models/research/object_detection\n",
        "import numpy as np\n",
        "import os\n",
        "import six.moves.urllib as urllib\n",
        "import sys\n",
        "import tarfile\n",
        "import tensorflow as tf\n",
        "import zipfile\n",
        "import cv2\n",
        "\n",
        "from collections import defaultdict\n",
        "from io import StringIO\n",
        "from matplotlib import pyplot as plt\n",
        "from PIL import Image\n",
        "from google.colab.patches import cv2_imshow\n",
        "\n",
        "\n",
        "# This is needed since the notebook is stored in the object_detection folder.\n",
        "sys.path.append(\"..\")\n",
        "from object_detection.utils import ops as utils_ops\n",
        "\n",
        "#if tf.__version__ < '1.4.0':\n",
        "  #raise ImportError('Please upgrade your tensorflow installation to v1.4.* or later!')\n",
        "  \n",
        "\n",
        "  \n",
        "  \n",
        "# This is needed to display the images.\n",
        "%matplotlib inline\n",
        "\n",
        "\n",
        "\n",
        "\n",
        "from utils import label_map_util\n",
        "\n",
        "from utils import visualization_utils as vis_util\n",
        "\n",
        "\n",
        "\n",
        "\n",
        "# What model to download.\n",
        "# Path to frozen detection graph. This is the actual model that is used for the object detection.\n",
        "PATH_TO_CKPT = '/content/drive/My Drive/project/models/research/object_detection/inference_graph' + '/frozen_inference_graph.pb'\n",
        "\n",
        "# List of the strings that is used to add correct label for each box.\n",
        "PATH_TO_LABELS = os.path.join('/content/drive/My Drive/project/models/research/object_detection/training', 'labelmap.pbtxt')\n",
        "\n",
        "NUM_CLASSES = 37\n",
        "\n",
        "\n",
        "\n",
        "\n",
        "detection_graph = tf.Graph()\n",
        "with detection_graph.as_default():\n",
        "  od_graph_def = tf.GraphDef()\n",
        "  with tf.gfile.GFile(PATH_TO_CKPT, 'rb') as fid:\n",
        "    serialized_graph = fid.read()\n",
        "    od_graph_def.ParseFromString(serialized_graph)\n",
        "    tf.import_graph_def(od_graph_def, name='')\n",
        "    \n",
        "    \n",
        "    \n",
        "    \n",
        "label_map = label_map_util.load_labelmap(PATH_TO_LABELS)\n",
        "categories = label_map_util.convert_label_map_to_categories(label_map, max_num_classes=NUM_CLASSES, use_display_name=True)\n",
        "category_index = label_map_util.create_category_index(categories)\n",
        "\n",
        "\n",
        "\n",
        "\n",
        "def load_image_into_numpy_array(image):\n",
        "  (im_width, im_height) = image.size\n",
        "  return np.array(image.getdata()).reshape(\n",
        "      (im_height, im_width, 3)).astype(np.uint8)\n",
        "\n",
        "\n",
        "\n",
        "\n",
        "# If you want to test the code with your images, just add path to the images to the TEST_IMAGE_PATHS.\n",
        "PATH_TO_TEST_IMAGES_DIR = '/content/drive/My Drive/project/models/research/object_detection/test_images'\n",
        "TEST_IMAGE_PATHS = [ os.path.join(PATH_TO_TEST_IMAGES_DIR, 'image{}.jpg'.format(i)) for i in range(1, c) ] \n",
        "\n",
        "# Size, in inches, of the output images.\n",
        "IMAGE_SIZE = (24, 18)\n",
        "\n",
        "\n",
        "\n",
        "\n",
        "def run_inference_for_single_image(image, graph):\n",
        "  with graph.as_default():\n",
        "    with tf.Session() as sess:\n",
        "      # Get handles to input and output tensors\n",
        "      ops = tf.get_default_graph().get_operations()\n",
        "      all_tensor_names = {output.name for op in ops for output in op.outputs}\n",
        "      tensor_dict = {}\n",
        "      for key in [\n",
        "          'num_detections', 'detection_boxes', 'detection_scores',\n",
        "          'detection_classes', 'detection_masks'\n",
        "      ]:\n",
        "        tensor_name = key + ':0'\n",
        "        if tensor_name in all_tensor_names:\n",
        "          tensor_dict[key] = tf.get_default_graph().get_tensor_by_name(\n",
        "              tensor_name)\n",
        "      if 'detection_masks' in tensor_dict:\n",
        "        # The following processing is only for single image\n",
        "        detection_boxes = tf.squeeze(tensor_dict['detection_boxes'], [0])\n",
        "        detection_masks = tf.squeeze(tensor_dict['detection_masks'], [0])\n",
        "        # Reframe is required to translate mask from box coordinates to image coordinates and fit the image size.\n",
        "        real_num_detection = tf.cast(tensor_dict['num_detections'][0], tf.int32)\n",
        "        detection_boxes = tf.slice(detection_boxes, [0, 0], [real_num_detection, -1])\n",
        "        detection_masks = tf.slice(detection_masks, [0, 0, 0], [real_num_detection, -1, -1])\n",
        "        detection_masks_reframed = utils_ops.reframe_box_masks_to_image_masks(\n",
        "            detection_masks, detection_boxes, image.shape[0], image.shape[1])\n",
        "        detection_masks_reframed = tf.cast(\n",
        "            tf.greater(detection_masks_reframed, 0.5), tf.uint8)\n",
        "        # Follow the convention by adding back the batch dimension\n",
        "        tensor_dict['detection_masks'] = tf.expand_dims(\n",
        "            detection_masks_reframed, 0)\n",
        "      image_tensor = tf.get_default_graph().get_tensor_by_name('image_tensor:0')\n",
        "\n",
        "      # Run inference\n",
        "      output_dict = sess.run(tensor_dict,\n",
        "                             feed_dict={image_tensor: np.expand_dims(image, 0)})\n",
        "\n",
        "      # all outputs are float32 numpy arrays, so convert types as appropriate\n",
        "      output_dict['num_detections'] = int(output_dict['num_detections'][0])\n",
        "      output_dict['detection_classes'] = output_dict[\n",
        "          'detection_classes'][0].astype(np.uint8)\n",
        "      output_dict['detection_boxes'] = output_dict['detection_boxes'][0]\n",
        "      output_dict['detection_scores'] = output_dict['detection_scores'][0]\n",
        "      if 'detection_masks' in output_dict:\n",
        "        output_dict['detection_masks'] = output_dict['detection_masks'][0]\n",
        "  return output_dict\n",
        "\n",
        "def pixelate(image):\n",
        "    # Get input size\n",
        "    height, width, _ = image.shape\n",
        "\n",
        "    # Desired \"pixelated\" size\n",
        "    h, w = (16, 16)\n",
        "\n",
        "    # Resize image to \"pixelated\" size\n",
        "    temp = cv2.resize(image, (w, h), interpolation=cv2.INTER_LINEAR)\n",
        "\n",
        "    # Initialize output image\n",
        "    return cv2.resize(temp, (width, height), interpolation=cv2.INTER_NEAREST)\n",
        "\n",
        "\n",
        "count = 1\n",
        "for image_path in TEST_IMAGE_PATHS:\n",
        "  image = Image.open(image_path)\n",
        "  # the array based representation of the image will be used later in order to prepare the\n",
        "  # result image with boxes and labels on it.\n",
        "  image_np = load_image_into_numpy_array(image)\n",
        "  # Expand dimensions since the model expects images to have shape: [1, None, None, 3]\n",
        "  image_np_expanded = np.expand_dims(image_np, axis=0)\n",
        "  # Actual detection.\n",
        "  output_dict = run_inference_for_single_image(image_np, detection_graph)\n",
        "  #Coordinates of detected objects\n",
        "  width, height = image.size\n",
        "  ymin = int(output_dict['detection_boxes'][0][0]*height)\n",
        "  xmin = int(output_dict['detection_boxes'][0][1]*width)\n",
        "  ymax = int(output_dict['detection_boxes'][0][2]*height)\n",
        "  xmax = int(output_dict['detection_boxes'][0][3]*width)\n",
        "  x,y,w,h = xmin,ymin,xmax-xmin,ymax-ymin\n",
        "  # Extract ROI\n",
        "  ROI = image_np[y:y+h, x:x+w]\n",
        "\n",
        "  # Pixelate ROI\n",
        "  pixelated_ROI = pixelate(ROI)\n",
        "\n",
        "  # Paste pixelated ROI back into original image\n",
        "  image_np[y:y+h, x:x+w] = pixelated_ROI\n",
        "  plt.imsave('censored_image/image%d.jpg' % count, image_np)\n",
        "  print('writing image%d' % count)\n",
        "  count += 1\n",
        "\n",
        "    "
      ],
      "execution_count": null,
      "outputs": []
    },
    {
      "cell_type": "code",
      "metadata": {
        "id": "ESE-ps2Xe7C6"
      },
      "source": [
        "%cd ~\n",
        "%cd /content\n",
        "%cd drive/My Drive/project/models/research/object_detection\n",
        "\n",
        "import cv2\n",
        "import numpy as np\n",
        "import os\n",
        "from os.path import isfile, join\n",
        "\n",
        "pathIn= 'censored_image/'\n",
        "pathOut = 'video.avi'\n",
        "fps = 10\n",
        "\n",
        "frame_array = []\n",
        "files = [f for f in os.listdir(pathIn) if isfile(join(pathIn, f))]\n",
        "\n",
        "for i in range(len(files)):\n",
        "    filename=pathIn + files[i]\n",
        "    #reading each files\n",
        "    img = cv2.imread(filename)\n",
        "    height, width, layers = img.shape\n",
        "    size = (width,height)\n",
        "\n",
        "    #inserting the frames into an image array\n",
        "    frame_array.append(img)\n",
        "\n",
        "    out = cv2.VideoWriter(pathOut,cv2.VideoWriter_fourcc(*'DIVX'), fps, size)\n",
        "\n",
        "    for i in range(len(frame_array)):\n",
        "    # writing to a image array\n",
        "      out.write(frame_array[i])\n",
        "out.release()"
      ],
      "execution_count": null,
      "outputs": []
    }
  ]
}